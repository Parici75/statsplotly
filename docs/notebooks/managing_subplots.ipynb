{
 "cells": [
  {
   "cell_type": "markdown",
   "id": "e89ceb94-4c80-4eb2-a0bd-c1c9f10ffdb0",
   "metadata": {
    "editable": true,
    "slideshow": {
     "slide_type": ""
    },
    "tags": []
   },
   "source": [
    "# Managing subplots\n",
    "One of the main feature of the library is that the `slicer` dimension is shared across subplot grids. This is convenient when drawing different graphic visualization along common data facets.\n",
    "\n",
    "Statsplotly provides utility methods to further tweak subplots grid."
   ]
  },
  {
   "cell_type": "code",
   "execution_count": null,
   "id": "4b4ccf02-08b3-4b6d-a915-b40c825342d2",
   "metadata": {
    "editable": true,
    "slideshow": {
     "slide_type": ""
    },
    "tags": [
     "hide-input"
    ]
   },
   "outputs": [],
   "source": [
    "import plotly.io as pio\n",
    "\n",
    "pio.renderers.default = \"sphinx_gallery\""
   ]
  },
  {
   "cell_type": "code",
   "execution_count": null,
   "id": "f31cb889-5670-45bb-a6fe-55ad482929d2",
   "metadata": {
    "editable": true,
    "slideshow": {
     "slide_type": ""
    },
    "tags": []
   },
   "outputs": [],
   "source": [
    "import plotly.express as px\n",
    "from plotly.subplots import make_subplots\n",
    "\n",
    "import statsplotly"
   ]
  },
  {
   "cell_type": "markdown",
   "id": "926325c3-b699-4bfe-8efe-14dbb759e721",
   "metadata": {},
   "source": [
    "## Drawing subplots\n",
    "All statsplotly plotting methods can be targeted to a `plotly.graph_objects.Figure` object created with plotly's `make_subplots` function. \n",
    "\n",
    "By default, subplot axes are independent :"
   ]
  },
  {
   "cell_type": "code",
   "execution_count": null,
   "id": "8faca9a7-66e5-4c83-a484-d0c1609387f4",
   "metadata": {},
   "outputs": [],
   "source": [
    "df = (\n",
    "    px.data.experiment().melt(id_vars=[\"gender\", \"group\"], var_name=\"experiment\").set_index(\"group\")\n",
    ")\n",
    "\n",
    "fig = make_subplots(cols=2, rows=2, column_widths=[0.9, 0.1])\n",
    "\n",
    "for row, group in enumerate(df.index.unique(), 1):\n",
    "    fig = statsplotly.distplot(\n",
    "        fig=fig, row=row, col=1, data=df.loc[group], y=\"value\", slicer=\"gender\", barmode=\"overlay\"\n",
    "    )\n",
    "\n",
    "    fig = statsplotly.catplot(\n",
    "        fig=fig,\n",
    "        row=row,\n",
    "        col=2,\n",
    "        data=df.loc[group],\n",
    "        plot_type=\"stripplot\",\n",
    "        x=\"group\",\n",
    "        slicer=\"gender\",\n",
    "        y=\"value\",\n",
    "    )\n",
    "\n",
    "fig.layout.height = 800\n",
    "fig.show()"
   ]
  },
  {
   "cell_type": "markdown",
   "id": "67a492e8-62cf-4366-9dfb-e6371d7afcfd",
   "metadata": {},
   "source": [
    "## Setting common axis limits\n",
    "\n",
    "The `set_common_axis_limit` method of the `SubplotGridFormatter` class controls axis behaviour across the subplot grid. \n",
    "\n",
    "Here we set common limits and link yaxes across the grid rows (while preserving the different limits of each row) :"
   ]
  },
  {
   "cell_type": "code",
   "execution_count": null,
   "id": "006a6567-1c4f-4352-95f9-91ff31ee7623",
   "metadata": {},
   "outputs": [],
   "source": [
    "from statsplotly.utils import SubplotGridFormatter\n",
    "\n",
    "SubplotGridFormatter(fig=fig).set_common_axis_limit(shared_grid_axis=\"rows\", link_axes=True)\n",
    "fig.show()"
   ]
  },
  {
   "cell_type": "markdown",
   "id": "ae107208-04a4-4bb4-9a8f-774216c227e8",
   "metadata": {},
   "source": [
    "## Tidying subplots\n",
    "`SubplotGridFormatter` also exposes the `tidy_subplots` utility method for flexible annotation of a subplot grid. The method automatically set a shared title for linked axes  :"
   ]
  },
  {
   "cell_type": "code",
   "execution_count": null,
   "id": "56dcf329-0398-46ba-a468-5c25138c47d9",
   "metadata": {},
   "outputs": [],
   "source": [
    "SubplotGridFormatter(fig=fig).tidy_subplots(\n",
    "    title=\"Effect of treatment\",\n",
    "    row_titles=[\"Control\", \"Treatment\"],\n",
    "    col_titles=[\"Distribution\", \"Raw Data\"],\n",
    ")\n",
    "fig.show()"
   ]
  },
  {
   "cell_type": "markdown",
   "id": "b9503972-cc26-4f31-8088-470e4f803eec",
   "metadata": {
    "editable": true,
    "slideshow": {
     "slide_type": ""
    },
    "tags": []
   },
   "source": [
    "## Combining slicer and coloraxis across subplots\n",
    "\n",
    "By chaining these methods, it is possible to combine and flexibly link subplots depicting different facets of a dataset. \n",
    "\n",
    "Here we link y axes across rows, x axes across all subplots, and set a shared coloraxis across rows : "
   ]
  },
  {
   "cell_type": "code",
   "execution_count": null,
   "id": "02d6f9ee-4c6b-4ca1-8d3c-26619bcfaadf",
   "metadata": {
    "editable": true,
    "slideshow": {
     "slide_type": ""
    },
    "tags": []
   },
   "outputs": [],
   "source": [
    "fig = make_subplots(cols=2, rows=2, row_heights=[0.2, 0.8])\n",
    "for col, group in enumerate(df.index.unique(), 1):\n",
    "    fig = statsplotly.distplot(\n",
    "        fig=fig,\n",
    "        col=col,\n",
    "        row=2,\n",
    "        data=df.loc[group],\n",
    "        x=\"value\",\n",
    "        slicer=\"gender\",\n",
    "        hist=False,\n",
    "        kde=True,\n",
    "    )\n",
    "\n",
    "    fig = statsplotly.catplot(\n",
    "        fig=fig,\n",
    "        col=col,\n",
    "        row=1,\n",
    "        plot_type=\"stripplot\",\n",
    "        orientation=\"horizontal\",\n",
    "        data=df.loc[group],\n",
    "        color=\"experiment\",\n",
    "        x=\"value\",\n",
    "        slicer=\"gender\",\n",
    "        y=\"group\",\n",
    "        color_palette=[\"#d4f542\", \"#4275f5\"],\n",
    "    )\n",
    "\n",
    "fig.layout.height = 800\n",
    "\n",
    "SubplotGridFormatter(fig=fig).set_common_axis_limit(\n",
    "    shared_grid_axis=\"rows\", plot_axis=\"yaxis\", link_axes=True\n",
    ").set_common_axis_limit(\n",
    "    shared_grid_axis=\"all\", plot_axis=\"xaxis\", link_axes=True\n",
    ").set_common_coloraxis(\n",
    "    shared_grid_axis=\"rows\"\n",
    ").tidy_subplots(\n",
    "    title=\"Sex difference in response to treatment\",\n",
    "    col_titles=[\"control\", \"treatment\"],\n",
    "    row_titles=[\"raw data\", \"distribution\"],\n",
    ")\n",
    "\n",
    "fig.show()"
   ]
  },
  {
   "cell_type": "markdown",
   "id": "2278bcfa-8a31-4775-b045-0427b9d70584",
   "metadata": {},
   "source": [
    "This last plot provides the following insights :\n",
    "- both sexes appear to respond to treatment positively, but the response effect size looks higher in males because of a lower baseline.\n",
    "- an experimental effect on the response to treatment is apparent in the scatter plot. This has to be taken into account in follow up statistical analyses."
   ]
  },
  {
   "cell_type": "markdown",
   "id": "13ef1d54-bba6-4dc5-95db-4717fcc9e4e2",
   "metadata": {},
   "source": [
    " Full details of the API : {mod}`~statsplotly.utils`."
   ]
  }
 ],
 "metadata": {
  "kernelspec": {
   "display_name": "statsplotly",
   "language": "python",
   "name": "statsplotly"
  },
  "language_info": {
   "codemirror_mode": {
    "name": "ipython",
    "version": 3
   },
   "file_extension": ".py",
   "mimetype": "text/x-python",
   "name": "python",
   "nbconvert_exporter": "python",
   "pygments_lexer": "ipython3",
   "version": "3.11.5"
  },
  "widgets": {
   "application/vnd.jupyter.widget-state+json": {
    "state": {},
    "version_major": 2,
    "version_minor": 0
   }
  }
 },
 "nbformat": 4,
 "nbformat_minor": 5
}
