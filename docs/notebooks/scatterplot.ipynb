{
 "cells": [
  {
   "cell_type": "markdown",
   "id": "41f8fac2-8f91-4380-81fa-08b02f3a3f42",
   "metadata": {
    "editable": true,
    "slideshow": {
     "slide_type": ""
    },
    "tags": []
   },
   "source": [
    "# Scatter plots\n",
    "\n",
    "A scatter plot shows the relationship between up to three variables by plotting each point on a coordinate plane, where the position of the point corresponds to the values of the variables being compared. \n",
    "\n",
    "By examining the pattern and distribution of the points, you can identify relationships, correlations, and trends in the data, such as whether there's a strong connection or no correlation between the variables."
   ]
  },
  {
   "cell_type": "code",
   "execution_count": null,
   "id": "7c33d61b-5f13-43c1-8786-4e9ebe3a23ce",
   "metadata": {
    "editable": true,
    "slideshow": {
     "slide_type": ""
    },
    "tags": [
     "hide-input"
    ]
   },
   "outputs": [],
   "source": [
    "import plotly.io as pio\n",
    "\n",
    "pio.renderers.default = \"sphinx_gallery\""
   ]
  },
  {
   "cell_type": "code",
   "execution_count": null,
   "id": "96c37311-328d-4ccf-94df-d9f19a076bb7",
   "metadata": {
    "editable": true,
    "slideshow": {
     "slide_type": ""
    },
    "tags": []
   },
   "outputs": [],
   "source": [
    "import plotly.express as px\n",
    "import statsplotly"
   ]
  },
  {
   "cell_type": "markdown",
   "id": "fa2c66cd-390a-4e56-9a55-6ea3c4ed021e",
   "metadata": {},
   "source": [
    "A simple 2-dimensional plot, with a diamond marker:"
   ]
  },
  {
   "cell_type": "code",
   "execution_count": null,
   "id": "621e4a7f-71e1-4e4f-8e6d-241e1f5430b9",
   "metadata": {},
   "outputs": [],
   "source": [
    "df = px.data.tips()\n",
    "\n",
    "fig = statsplotly.plot(\n",
    "    data=df,\n",
    "    marker=\"diamond\",\n",
    "    x=\"total_bill\",\n",
    "    y=\"tip\",\n",
    "    slicer=\"sex\",\n",
    ")\n",
    "fig.show()"
   ]
  },
  {
   "cell_type": "markdown",
   "id": "6f564897-7375-458a-a62c-628fd6801a3d",
   "metadata": {
    "editable": true,
    "slideshow": {
     "slide_type": ""
    },
    "tags": []
   },
   "source": [
    "## 3D plots\n",
    "\n",
    "Supplying a z dimension generates a 3-dimensional scatter:"
   ]
  },
  {
   "cell_type": "code",
   "execution_count": null,
   "id": "b8f0b1cd-40fc-416d-998d-905d646261b3",
   "metadata": {},
   "outputs": [],
   "source": [
    "df = px.data.tips()\n",
    "\n",
    "fig = statsplotly.plot(\n",
    "    data=df,\n",
    "    marker=\"diamond\",\n",
    "    x=\"total_bill\",\n",
    "    y=\"tip\",\n",
    "    z=\"day\",\n",
    "    slicer=\"sex\",\n",
    ")\n",
    "fig.layout.height = 600\n",
    "fig.show()"
   ]
  },
  {
   "cell_type": "markdown",
   "id": "cd5f8fb5-1a01-41d3-b8a7-5c841a70083c",
   "metadata": {
    "editable": true,
    "slideshow": {
     "slide_type": ""
    },
    "tags": []
   },
   "source": [
    "## Controlling data points colormapping\n",
    "\n",
    "Color can be specified independently of the slicer:"
   ]
  },
  {
   "cell_type": "code",
   "execution_count": null,
   "id": "788cfbc4-d21d-493e-af43-aea4faddca13",
   "metadata": {},
   "outputs": [],
   "source": [
    "df = px.data.tips()\n",
    "\n",
    "fig = statsplotly.plot(data=df, x=\"total_bill\", y=\"tip\", z=\"day\", slicer=\"sex\", color=\"tip\")\n",
    "fig.layout.height = 600\n",
    "fig.show()"
   ]
  },
  {
   "cell_type": "markdown",
   "id": "c87adf6d-d828-488c-8dfd-542ad31eaed9",
   "metadata": {},
   "source": [
    "## Discrete color mapping\n",
    "Supplying a string color dimension creates a discrete colormap:"
   ]
  },
  {
   "cell_type": "code",
   "execution_count": null,
   "id": "c07085db-419d-4558-b23b-3f79788bbdac",
   "metadata": {},
   "outputs": [],
   "source": [
    "df = px.data.tips()\n",
    "\n",
    "fig = statsplotly.plot(data=df, x=\"total_bill\", y=\"tip\", z=\"day\", slicer=\"sex\", color=\"day\")\n",
    "fig.layout.height = 600\n",
    "fig.show()"
   ]
  },
  {
   "cell_type": "markdown",
   "id": "cb2999c4-4c59-4d06-ba48-ca5a1101779a",
   "metadata": {},
   "source": [
    "Full details of the API : {func}`~statsplotly.plot`."
   ]
  }
 ],
 "metadata": {
  "kernelspec": {
   "display_name": "statsplotly",
   "language": "python",
   "name": "statsplotly"
  },
  "language_info": {
   "codemirror_mode": {
    "name": "ipython",
    "version": 3
   },
   "file_extension": ".py",
   "mimetype": "text/x-python",
   "name": "python",
   "nbconvert_exporter": "python",
   "pygments_lexer": "ipython3",
   "version": "3.11.5"
  },
  "widgets": {
   "application/vnd.jupyter.widget-state+json": {
    "state": {},
    "version_major": 2,
    "version_minor": 0
   }
  }
 },
 "nbformat": 4,
 "nbformat_minor": 5
}
