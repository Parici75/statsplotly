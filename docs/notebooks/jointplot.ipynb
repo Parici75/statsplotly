{
 "cells": [
  {
   "cell_type": "markdown",
   "id": "d0b43bac-d484-4323-b41c-095c3d5f3d10",
   "metadata": {
    "editable": true,
    "slideshow": {
     "slide_type": ""
    },
    "tags": []
   },
   "source": [
    "# Jointplots\n",
    "A jointplot combines a bivariate plot and a marginal plot to visualize the relationship between two continuous variables, providing a comprehensive view of how they interact and behave together. \n",
    "\n",
    "By displaying the bivariate plot in the middle, surrounded by marginal plots showing the distribution of each variable separately, jointplots shed light on correlation, clustering, and outliers in the data, as well as patterns and relationships that might not be immediately apparent from looking at just one variable alone."
   ]
  },
  {
   "cell_type": "code",
   "execution_count": null,
   "id": "841108b8-6dda-40b0-b64d-8366f62599ad",
   "metadata": {
    "editable": true,
    "slideshow": {
     "slide_type": ""
    },
    "tags": [
     "hide-input"
    ]
   },
   "outputs": [],
   "source": [
    "import plotly.io as pio\n",
    "\n",
    "pio.renderers.default = \"sphinx_gallery\""
   ]
  },
  {
   "cell_type": "code",
   "execution_count": null,
   "id": "f07bcd94-e384-41a4-9cb3-b8ac6d410379",
   "metadata": {
    "editable": true,
    "slideshow": {
     "slide_type": ""
    },
    "tags": []
   },
   "outputs": [],
   "source": [
    "import plotly.express as px\n",
    "import statsplotly"
   ]
  },
  {
   "cell_type": "markdown",
   "id": "dfb5f002-3567-4f7d-a11b-735d67e6a289",
   "metadata": {
    "editable": true,
    "slideshow": {
     "slide_type": ""
    },
    "tags": []
   },
   "source": [
    "By default, a scatter plot is used for depicting the joint distribution :"
   ]
  },
  {
   "cell_type": "code",
   "execution_count": null,
   "id": "b74de9fe-11d1-45f7-8808-e6b7a2601049",
   "metadata": {},
   "outputs": [],
   "source": [
    "df = px.data.tips()\n",
    "\n",
    "fig = statsplotly.jointplot(\n",
    "    data=df,\n",
    "    x=\"total_bill\",\n",
    "    y=\"tip\",\n",
    "    hist=True,\n",
    "    kde=True,\n",
    "    fit=\"linear\",\n",
    "    bins_x=20,\n",
    "    color_palette=\"Set2\",\n",
    "    slicer=\"sex\",\n",
    "    marginal_plot=\"all\",\n",
    ")\n",
    "fig.layout.height = 800\n",
    "fig.show()"
   ]
  },
  {
   "cell_type": "markdown",
   "id": "7653d0e4-9d4f-407c-84ab-f250a8dcae25",
   "metadata": {
    "editable": true,
    "slideshow": {
     "slide_type": ""
    },
    "tags": []
   },
   "source": [
    "## 2D density plot\n",
    "\n",
    "The underlying distribution can be plotted by using the `kde` keyword argument. \n",
    "\n",
    "As it is not possible to visualize density maps as overlays, a dropdown menu is created to switch between data slices :"
   ]
  },
  {
   "cell_type": "code",
   "execution_count": null,
   "id": "59d18065-74da-4d9d-a770-f9c8d9b9d72d",
   "metadata": {},
   "outputs": [],
   "source": [
    "df = px.data.tips()\n",
    "\n",
    "fig = statsplotly.jointplot(\n",
    "    data=df,\n",
    "    x=\"total_bill\",\n",
    "    y=\"tip\",\n",
    "    step=False,\n",
    "    rug=True,\n",
    "    kde=True,\n",
    "    hist=False,\n",
    "    fit=\"linear\",\n",
    "    plot_type=\"scatter+kde\",\n",
    "    equal_bins_x=False,\n",
    "    bins_x=20,\n",
    "    color_palette=\"Set2\",\n",
    "    kde_color_palette=\"greens\",\n",
    "    slicer=\"sex\",\n",
    "    shared_coloraxis=True,\n",
    "    marginal_plot=\"all\",\n",
    ")\n",
    "fig.layout.height = 600\n",
    "fig.show()"
   ]
  },
  {
   "cell_type": "markdown",
   "id": "835b207c-6fce-4dd9-a245-2e8c7bfca739",
   "metadata": {},
   "source": [
    "## 2D histograms\n",
    "\n",
    "Multiple different combination of bivariate and univariate histograms and color palettes can be combined :"
   ]
  },
  {
   "cell_type": "code",
   "execution_count": null,
   "id": "14043d79-1e31-4957-a137-36cd13ca8166",
   "metadata": {},
   "outputs": [],
   "source": [
    "df = px.data.tips()\n",
    "\n",
    "fig = statsplotly.jointplot(\n",
    "    data=df,\n",
    "    x=\"total_bill\",\n",
    "    y=\"tip\",\n",
    "    step=False,\n",
    "    rug=True,\n",
    "    kde=False,\n",
    "    hist=True,\n",
    "    plot_type=\"histogram\",\n",
    "    equal_bins_x=True,\n",
    "    bins_x=20,\n",
    "    color_palette=\"bone\",\n",
    "    kde_color_palette=\"reds\",\n",
    "    slicer=\"sex\",\n",
    "    marginal_plot=\"x\",\n",
    ")\n",
    "fig.layout.height = 600\n",
    "fig.show()"
   ]
  },
  {
   "cell_type": "markdown",
   "id": "3b789e37-63b1-4e04-9793-17408161a87a",
   "metadata": {
    "editable": true,
    "slideshow": {
     "slide_type": ""
    },
    "tags": []
   },
   "source": [
    "## \"Histmaps\"\n",
    "\n",
    "The `<dimension>_histmap` parameter draws an histogram of one variable along unique values of the dimension. \n",
    "\n",
    "Here, setting `plot_type=\"x_histmap\"` display histogram of stock value for each month :"
   ]
  },
  {
   "cell_type": "code",
   "execution_count": null,
   "id": "c5159107-92d0-4c59-8767-2d895060effc",
   "metadata": {},
   "outputs": [],
   "source": [
    "import pandas as pd\n",
    "\n",
    "df = px.data.stocks().set_index(\"date\")\n",
    "\n",
    "fig = statsplotly.jointplot(\n",
    "    data=df.melt(ignore_index=False, var_name=\"company\", value_name=\"stock_value\"),\n",
    "    y=\"stock_value\",\n",
    "    x=\"date\",\n",
    "    plot_type=\"x_histmap\",\n",
    "    barmode=\"stack\",\n",
    "    slicer=\"company\",\n",
    "    marginal_plot=\"y\",\n",
    ")\n",
    "fig.layout.height = 600\n",
    "fig.show()"
   ]
  },
  {
   "cell_type": "markdown",
   "id": "eb2e0a9e-05cf-4ce9-be06-e9405ac75764",
   "metadata": {},
   "source": [
    "Full details of the API : {func}`~statsplotly.jointplot`."
   ]
  }
 ],
 "metadata": {
  "kernelspec": {
   "display_name": "statsplotly",
   "language": "python",
   "name": "statsplotly"
  },
  "language_info": {
   "codemirror_mode": {
    "name": "ipython",
    "version": 3
   },
   "file_extension": ".py",
   "mimetype": "text/x-python",
   "name": "python",
   "nbconvert_exporter": "python",
   "pygments_lexer": "ipython3",
   "version": "3.11.5"
  },
  "widgets": {
   "application/vnd.jupyter.widget-state+json": {
    "state": {},
    "version_major": 2,
    "version_minor": 0
   }
  }
 },
 "nbformat": 4,
 "nbformat_minor": 5
}
