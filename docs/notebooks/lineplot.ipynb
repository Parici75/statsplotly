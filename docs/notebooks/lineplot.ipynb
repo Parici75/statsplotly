{
 "cells": [
  {
   "cell_type": "markdown",
   "id": "5b761ba0-c9e0-424e-a903-34c105305a3b",
   "metadata": {
    "editable": true,
    "slideshow": {
     "slide_type": ""
    },
    "tags": []
   },
   "source": [
    "# Line plots\n",
    "A line plot shows how data changes over time or across different values, with each point on the plot representing a specific value and connecting to the next one to create a continuous line. \n",
    "\n",
    "By looking at the shape and movement of the line, you can easily visualize trends, patterns, and correlations in the data, making it easier to understand and analyze complex information."
   ]
  },
  {
   "cell_type": "code",
   "execution_count": null,
   "id": "fe09e658-bb9f-4d1c-8dd9-9dc9f54cfe65",
   "metadata": {
    "editable": true,
    "slideshow": {
     "slide_type": ""
    },
    "tags": [
     "hide-input"
    ]
   },
   "outputs": [],
   "source": [
    "import plotly.io as pio\n",
    "\n",
    "pio.renderers.default = \"sphinx_gallery\""
   ]
  },
  {
   "cell_type": "code",
   "execution_count": null,
   "id": "a041ef27-357e-4d07-b578-c093d92f2019",
   "metadata": {
    "editable": true,
    "slideshow": {
     "slide_type": ""
    },
    "tags": []
   },
   "outputs": [],
   "source": [
    "import plotly.express as px\n",
    "import statsplotly"
   ]
  },
  {
   "cell_type": "markdown",
   "id": "9648c9fb-a8a4-473a-bb65-513f45105833",
   "metadata": {},
   "source": [
    "`statsplotly` makes it easy to plot an entire dataset on a graph while keeping the output readable thanks to the `slicer` dimension :"
   ]
  },
  {
   "cell_type": "code",
   "execution_count": null,
   "id": "5cf1ed83-b257-446a-b320-32a7078068ec",
   "metadata": {},
   "outputs": [],
   "source": [
    "df = px.data.gapminder()\n",
    "\n",
    "fig = statsplotly.plot(\n",
    "    data=df.sort_values(\"lifeExp\"),\n",
    "    y=\"gdpPercap\",\n",
    "    x=\"lifeExp\",\n",
    "    text=\"pop\",\n",
    "    color_palette=\"tab20\",\n",
    "    slicer=\"country\",\n",
    ")\n",
    "fig.show()"
   ]
  },
  {
   "cell_type": "markdown",
   "id": "5cc14817-20af-442f-8409-04c31efc3ebf",
   "metadata": {},
   "source": [
    "`plotly`'s native `update_layout` methods can be used to modify the axes of the returned object, for example to set a logscale on the yaxis :"
   ]
  },
  {
   "cell_type": "code",
   "execution_count": null,
   "id": "7043cd6a-d87d-488c-8fbf-2436760c447a",
   "metadata": {
    "editable": true,
    "slideshow": {
     "slide_type": ""
    },
    "tags": []
   },
   "outputs": [],
   "source": [
    "fig.update_layout(yaxis_type=\"log\")"
   ]
  },
  {
   "cell_type": "markdown",
   "id": "0387c83e-c3e4-4ea6-bb17-71b8775b1804",
   "metadata": {
    "editable": true,
    "slideshow": {
     "slide_type": ""
    },
    "tags": []
   },
   "source": [
    "## Plotting regression lines\n",
    "\n",
    "By default, the slices appear in their order in the dataframe. This can be changed with the `slice_order` argument. \n",
    "\n",
    "Here we also use the `fit` parameter to fit a regression line to the data (see {obj}`regression type <statsplotly.plot_specifiers.data.RegressionType>`):"
   ]
  },
  {
   "cell_type": "code",
   "execution_count": null,
   "id": "2920f883-c69f-4318-a975-2bf4615c1cc9",
   "metadata": {},
   "outputs": [],
   "source": [
    "fig = statsplotly.plot(\n",
    "    data=df.sort_values(\"lifeExp\"),\n",
    "    y=\"gdpPercap\",\n",
    "    x=\"lifeExp\",\n",
    "    slice_order=df.country.sort_values(),\n",
    "    color_palette=\"tab20\",\n",
    "    slicer=\"country\",\n",
    "    fit=\"linear\",\n",
    ")\n",
    "fig.show()"
   ]
  },
  {
   "cell_type": "markdown",
   "id": "473a9705-06e3-4e98-ae1a-2fcc33f7bda3",
   "metadata": {},
   "source": [
    "## Shaded error bar\n",
    "\n",
    "Statsplotly also supports \"shaded error bar\" to display a continuous region of error behind the lines. \n",
    "\n",
    "Here we calculate the span of the GDP for each continent / year on the fly and superimpose each country data over it :"
   ]
  },
  {
   "cell_type": "code",
   "execution_count": null,
   "id": "1157b3e7-98e6-4fca-a6a0-91aa472e0118",
   "metadata": {},
   "outputs": [],
   "source": [
    "fig = statsplotly.plot(\n",
    "    data=df.merge(\n",
    "        df.groupby([\"continent\", \"year\"])[\"gdpPercap\"]\n",
    "        .apply(lambda x: (x.min(), x.max()))\n",
    "        .rename(\"continent_span\"),\n",
    "        on=[\"continent\", \"year\"],\n",
    "    ).sort_values(\"lifeExp\"),\n",
    "    y=\"gdpPercap\",\n",
    "    x=\"lifeExp\",\n",
    "    shaded_error=\"continent_span\",\n",
    "    color_palette=\"tab20\",\n",
    "    slicer=\"country\",\n",
    ")\n",
    "fig.update_layout(yaxis_type=\"log\").show()"
   ]
  },
  {
   "cell_type": "markdown",
   "id": "a07863ac-5b7c-4811-b4b1-690ee143f11f",
   "metadata": {},
   "source": [
    "Full details of the API : {func}`~statsplotly.plot`."
   ]
  }
 ],
 "metadata": {
  "kernelspec": {
   "display_name": "statsplotly",
   "language": "python",
   "name": "statsplotly"
  },
  "language_info": {
   "codemirror_mode": {
    "name": "ipython",
    "version": 3
   },
   "file_extension": ".py",
   "mimetype": "text/x-python",
   "name": "python",
   "nbconvert_exporter": "python",
   "pygments_lexer": "ipython3",
   "version": "3.11.5"
  },
  "widgets": {
   "application/vnd.jupyter.widget-state+json": {
    "state": {},
    "version_major": 2,
    "version_minor": 0
   }
  }
 },
 "nbformat": 4,
 "nbformat_minor": 5
}
