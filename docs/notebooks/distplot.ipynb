{
 "cells": [
  {
   "cell_type": "markdown",
   "id": "4491a482-254b-4aa5-b2e9-26a467bcb2cd",
   "metadata": {
    "editable": true,
    "slideshow": {
     "slide_type": ""
    },
    "tags": []
   },
   "source": [
    "# Distribution plots\n",
    "A distribution plot displays the distribution of a single continuous variable by showing how the values are spread out across a range, using a combination of visual elements such as histograms or density curves, to provide a comprehensive view of the data. \n",
    "\n",
    "By showcasing the shape, skewness, and variability of the data, distribution plots helps understand the underlying distribution of data, identify anomalies or outliers, and make informed decisions about statistical modeling and analysis."
   ]
  },
  {
   "cell_type": "code",
   "execution_count": null,
   "id": "255b224b-a908-4698-a32e-b7562dec532f",
   "metadata": {
    "editable": true,
    "slideshow": {
     "slide_type": ""
    },
    "tags": [
     "hide-input"
    ]
   },
   "outputs": [],
   "source": [
    "import plotly.io as pio\n",
    "\n",
    "pio.renderers.default = \"sphinx_gallery\""
   ]
  },
  {
   "cell_type": "code",
   "execution_count": null,
   "id": "9ea73b2d-89fe-456c-bbf7-1eaae703ec1f",
   "metadata": {
    "editable": true,
    "slideshow": {
     "slide_type": ""
    },
    "tags": []
   },
   "outputs": [],
   "source": [
    "import plotly.express as px\n",
    "import statsplotly"
   ]
  },
  {
   "cell_type": "markdown",
   "id": "fd374d85-6f38-4d10-a979-7a31d2c52164",
   "metadata": {},
   "source": [
    "`distplot` requires one `dimension` argument over which the distribution is computed and plotted :"
   ]
  },
  {
   "cell_type": "code",
   "execution_count": null,
   "id": "15855071-aa77-4c25-b86c-82ad4f043a12",
   "metadata": {},
   "outputs": [],
   "source": [
    "df = px.data.tips()\n",
    "\n",
    "fig = statsplotly.distplot(\n",
    "    data=df,\n",
    "    x=\"total_bill\",\n",
    ")\n",
    "fig.show()"
   ]
  },
  {
   "cell_type": "markdown",
   "id": "3ed2e58a-2917-4304-b816-03a2e0e8de34",
   "metadata": {
    "editable": true,
    "slideshow": {
     "slide_type": ""
    },
    "tags": []
   },
   "source": [
    "## Slicing data\n",
    "Data can be sliced along a dimension, and the color palette specified : "
   ]
  },
  {
   "cell_type": "code",
   "execution_count": null,
   "id": "7de4dc57-4414-40df-a9f4-1ff979fe0286",
   "metadata": {},
   "outputs": [],
   "source": [
    "df = px.data.tips()\n",
    "\n",
    "fig = statsplotly.distplot(\n",
    "    data=df,\n",
    "    x=\"total_bill\",\n",
    "    color_palette=\"Set2_r\",\n",
    "    slicer=\"sex\",\n",
    ")\n",
    "fig.show()"
   ]
  },
  {
   "cell_type": "markdown",
   "id": "f970f648-9e2c-4c02-a967-ce693ce31b8f",
   "metadata": {},
   "source": [
    "Set `equal_bins` to `True` to use the same binnings across slices :"
   ]
  },
  {
   "cell_type": "code",
   "execution_count": null,
   "id": "277c5642-3282-4e48-b9ef-8c8d1951c4e0",
   "metadata": {},
   "outputs": [],
   "source": [
    "df = px.data.tips()\n",
    "\n",
    "fig = statsplotly.distplot(\n",
    "    data=df,\n",
    "    x=\"total_bill\",\n",
    "    color_palette=\"Set2_r\",\n",
    "    equal_bins=True,\n",
    "    slicer=\"sex\",\n",
    ")\n",
    "fig.show()"
   ]
  },
  {
   "cell_type": "markdown",
   "id": "ecb1ccd8-58d1-4d0f-b162-42dc8c79e558",
   "metadata": {},
   "source": [
    "By default, distribution of each level of the slicer are overlayed in the order they appear in the DataFrame. \n",
    "\n",
    "Use `slice_order` to obtain better slice ordering to fit this particular visualization :"
   ]
  },
  {
   "cell_type": "code",
   "execution_count": null,
   "id": "9dd3976d-5b4b-4b87-9d36-c1dc47fae1fa",
   "metadata": {},
   "outputs": [],
   "source": [
    "df = px.data.tips()\n",
    "\n",
    "fig = statsplotly.distplot(\n",
    "    data=df,\n",
    "    x=\"total_bill\",\n",
    "    color_palette=\"Set2_r\",\n",
    "    equal_bins=True,\n",
    "    slice_order=[\"Male\", \"Female\"],\n",
    "    slicer=\"sex\",\n",
    ")\n",
    "fig.show()"
   ]
  },
  {
   "cell_type": "markdown",
   "id": "92e4af32-cb53-4280-bfd2-c269e731b56c",
   "metadata": {},
   "source": [
    "## Setting histogram norm\n",
    "\n",
    "The `histnorm` parameter controls the normalization of bins :"
   ]
  },
  {
   "cell_type": "code",
   "execution_count": null,
   "id": "54ecde71-f419-43e2-b096-bfc495181c5d",
   "metadata": {},
   "outputs": [],
   "source": [
    "fig = statsplotly.distplot(\n",
    "    data=df,\n",
    "    x=\"total_bill\",\n",
    "    color_palette=\"Set2_r\",\n",
    "    equal_bins=True,\n",
    "    histnorm=\"probability\",\n",
    "    slicer=\"sex\",\n",
    ")\n",
    "fig.show()"
   ]
  },
  {
   "cell_type": "markdown",
   "id": "b918ac1d-0ea5-40b8-9261-bca72e48eaa6",
   "metadata": {},
   "source": [
    "The combination of `step`, `rug`, `hist` and `kde` parameters allows for the fine control on the representation of the underlying distribution.\n",
    "\n",
    "The central tendency of the distribution can also be plotted :"
   ]
  },
  {
   "cell_type": "code",
   "execution_count": null,
   "id": "675898e7-eecf-4812-9cc3-5e42ab067c87",
   "metadata": {},
   "outputs": [],
   "source": [
    "df = px.data.tips()\n",
    "\n",
    "fig = statsplotly.distplot(\n",
    "    data=df,\n",
    "    x=\"total_bill\",\n",
    "    rug=True,\n",
    "    kde=True,\n",
    "    hist=False,\n",
    "    bins=20,\n",
    "    color_palette=\"Set2_r\",\n",
    "    central_tendency=\"mean\",\n",
    "    slicer=\"sex\",\n",
    ")\n",
    "fig.show()"
   ]
  },
  {
   "cell_type": "markdown",
   "id": "2dc3e5b2-bb5d-443a-892c-d1c565155dc5",
   "metadata": {},
   "source": [
    "## Empirical Cumulative Distribution Function\n",
    "\n",
    "Set `ecdf` to `True` to plot the Empirical Cumulative Distribution Function :"
   ]
  },
  {
   "cell_type": "code",
   "execution_count": null,
   "id": "dcb7f800-02da-461d-b839-bcebd4806e57",
   "metadata": {},
   "outputs": [],
   "source": [
    "df = px.data.tips()\n",
    "\n",
    "fig = statsplotly.distplot(\n",
    "    data=df,\n",
    "    x=\"total_bill\",\n",
    "    ecdf=True,\n",
    "    hist=True,\n",
    "    bins=50,\n",
    "    equal_bins=True,\n",
    "    histnorm=\"probability\",\n",
    "    color_palette=\"Set2_r\",\n",
    "    slicer=\"sex\",\n",
    ")\n",
    "fig.show()"
   ]
  },
  {
   "cell_type": "markdown",
   "id": "e7e5988a-e293-4be8-8497-bd84a14ee6d6",
   "metadata": {},
   "source": [
    "## Horizontal histograms\n",
    "\n",
    "Specifying a `y` dimension instead of `x` plot an horizontal histogram. \n",
    "\n",
    "Here we also use step lines instead of filled bar to display the bins :"
   ]
  },
  {
   "cell_type": "code",
   "execution_count": null,
   "id": "5160188b-d4ac-4ae1-a5fe-13acd221e0b2",
   "metadata": {},
   "outputs": [],
   "source": [
    "df = px.data.tips()\n",
    "\n",
    "fig = statsplotly.distplot(\n",
    "    data=df,\n",
    "    y=\"total_bill\",\n",
    "    step=True,\n",
    "    hist=True,\n",
    "    equal_bins=False,\n",
    "    bins=20,\n",
    "    color_palette=\"Set2\",\n",
    "    slicer=\"sex\",\n",
    "    central_tendency=\"median\",\n",
    ")\n",
    "fig.show()"
   ]
  },
  {
   "cell_type": "markdown",
   "id": "24fc54bd-7587-4669-9dc5-56ce72122ace",
   "metadata": {},
   "source": [
    "## Drawing horizontal and vertical lines\n",
    "\n",
    "`hlines` and `vlines` parameters are convenience arguments to graph horizontal or vertical lines attached to a slice of the data. \n",
    "\n",
    "This is useful to highlight particular values on the distribution :"
   ]
  },
  {
   "cell_type": "code",
   "execution_count": null,
   "id": "57b181e9-0c8f-4b71-b811-938854479973",
   "metadata": {},
   "outputs": [],
   "source": [
    "df = px.data.tips()\n",
    "\n",
    "fig = statsplotly.distplot(\n",
    "    data=df,\n",
    "    y=\"total_bill\",\n",
    "    step=True,\n",
    "    hist=True,\n",
    "    equal_bins=False,\n",
    "    bins=20,\n",
    "    color_palette=\"Set2\",\n",
    "    slicer=\"sex\",\n",
    "    central_tendency=\"median\",\n",
    "    hlines={\"Female\": (\"Actual value\", 50), \"Male\": (\"Actual value\", 60)},\n",
    ")\n",
    "fig.show()"
   ]
  },
  {
   "cell_type": "markdown",
   "id": "8045aafe-624f-4dab-a05a-95ed8118a14e",
   "metadata": {},
   "source": [
    "Full details of the API : {func}`~statsplotly.distplot`."
   ]
  }
 ],
 "metadata": {
  "kernelspec": {
   "display_name": "statsplotly",
   "language": "python",
   "name": "statsplotly"
  },
  "language_info": {
   "codemirror_mode": {
    "name": "ipython",
    "version": 3
   },
   "file_extension": ".py",
   "mimetype": "text/x-python",
   "name": "python",
   "nbconvert_exporter": "python",
   "pygments_lexer": "ipython3",
   "version": "3.11.5"
  },
  "widgets": {
   "application/vnd.jupyter.widget-state+json": {
    "state": {},
    "version_major": 2,
    "version_minor": 0
   }
  }
 },
 "nbformat": 4,
 "nbformat_minor": 5
}
