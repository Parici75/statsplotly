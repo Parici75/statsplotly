{
 "cells": [
  {
   "cell_type": "markdown",
   "id": "15079b3a-3de9-40e0-a2cf-7348e99325fc",
   "metadata": {
    "editable": true,
    "slideshow": {
     "slide_type": ""
    },
    "tags": []
   },
   "source": [
    "# Categorical plots\n",
    "A categorical plot combines the features of a bar plot and a scatter plot to visualize categorical data, typically showing how different groups or categories relate to each other based on one continuous variables. \n",
    "\n",
    "By plotting a continuous variable against each category, categorical plots provide a clear and intuitive way to compare distributions, identify correlations, and explore patterns in the data."
   ]
  },
  {
   "cell_type": "code",
   "execution_count": null,
   "id": "99b62cac-c43c-4f7e-bd91-4259bea6d3e9",
   "metadata": {
    "editable": true,
    "slideshow": {
     "slide_type": ""
    },
    "tags": [
     "hide-input"
    ]
   },
   "outputs": [],
   "source": [
    "import plotly.io as pio\n",
    "\n",
    "pio.renderers.default = \"sphinx_gallery\""
   ]
  },
  {
   "cell_type": "code",
   "execution_count": null,
   "id": "d0724c8d-29fa-4c71-b9f9-94dc07b726a6",
   "metadata": {
    "editable": true,
    "slideshow": {
     "slide_type": ""
    },
    "tags": []
   },
   "outputs": [],
   "source": [
    "import plotly.express as px\n",
    "import statsplotly"
   ]
  },
  {
   "cell_type": "markdown",
   "id": "5354d90b-c75f-4272-95b9-b47fdfbb79ab",
   "metadata": {
    "editable": true,
    "slideshow": {
     "slide_type": ""
    },
    "tags": []
   },
   "source": [
    "## Styling plots\n",
    "\n",
    "Using marker `size` to cue the tip :"
   ]
  },
  {
   "cell_type": "code",
   "execution_count": null,
   "id": "8a1d9895-fd4d-4e95-b695-1b839fa3bc8a",
   "metadata": {
    "editable": true,
    "slideshow": {
     "slide_type": ""
    },
    "tags": []
   },
   "outputs": [],
   "source": [
    "df = px.data.tips()\n",
    "\n",
    "fig = statsplotly.catplot(\n",
    "    data=df,\n",
    "    y=\"total_bill\",\n",
    "    x=\"sex\",\n",
    "    plot_type=\"stripplot\",\n",
    "    size=\"tip\",\n",
    "    slicer=\"sex\",\n",
    ")\n",
    "fig.show()"
   ]
  },
  {
   "cell_type": "markdown",
   "id": "0a69aeaa-7f2a-43a1-8601-99c9cd3a0b27",
   "metadata": {},
   "source": [
    "Using marker `opacity` to cue the tip :"
   ]
  },
  {
   "cell_type": "code",
   "execution_count": null,
   "id": "a886fe81-5497-456e-bfda-af15f4e2f1c8",
   "metadata": {},
   "outputs": [],
   "source": [
    "df = px.data.tips()\n",
    "\n",
    "fig = statsplotly.catplot(\n",
    "    data=df,\n",
    "    y=\"total_bill\",\n",
    "    x=\"sex\",\n",
    "    plot_type=\"stripplot\",\n",
    "    opacity=\"tip\",\n",
    "    slicer=\"sex\",\n",
    ")\n",
    "fig.show()"
   ]
  },
  {
   "cell_type": "markdown",
   "id": "69a0735d-8354-4a0b-97e9-519627281ef7",
   "metadata": {},
   "source": [
    "## Controlling data \"spread\"\n",
    "\n",
    "The amount of spread over the categorical axis can be controlled with the `jitter` parameter :"
   ]
  },
  {
   "cell_type": "code",
   "execution_count": null,
   "id": "fb02728d-b9a1-42a8-95bc-382854c142bd",
   "metadata": {},
   "outputs": [],
   "source": [
    "df = px.data.tips()\n",
    "\n",
    "fig = statsplotly.catplot(\n",
    "    data=df,\n",
    "    y=\"total_bill\",\n",
    "    x=\"sex\",\n",
    "    plot_type=\"stripplot\",\n",
    "    opacity=\"tip\",\n",
    "    jitter=0.2,\n",
    ")\n",
    "fig.show()"
   ]
  },
  {
   "cell_type": "markdown",
   "id": "35ab0e99-a873-448e-aeab-ad135e2f2207",
   "metadata": {},
   "source": [
    "## Controlling data points color\n",
    "\n",
    "Color can be specified independently of the `slicer` :"
   ]
  },
  {
   "cell_type": "code",
   "execution_count": null,
   "id": "f20ba8c1-a540-40fc-b8ae-591fd99df52b",
   "metadata": {},
   "outputs": [],
   "source": [
    "df = px.data.tips()\n",
    "\n",
    "fig = statsplotly.catplot(\n",
    "    data=df,\n",
    "    y=\"total_bill\",\n",
    "    x=\"time\",\n",
    "    plot_type=\"stripplot\",\n",
    "    opacity=0.8,\n",
    "    color=\"sex\",\n",
    "    slicer=\"day\",\n",
    "    jitter=0.5,\n",
    ")\n",
    "fig.show()"
   ]
  },
  {
   "cell_type": "markdown",
   "id": "0d9f75bc-c52d-4960-b0be-d2de31efb592",
   "metadata": {},
   "source": [
    "## Specifying categorical plot type\n",
    "\n",
    "The `plot_type` parameter controls the kind of categorical plot (see {obj}`categorical plot type <statsplotly.plot_specifiers.trace.CategoricalPlotType>`) : "
   ]
  },
  {
   "cell_type": "code",
   "execution_count": null,
   "id": "53bb6676-ef07-4993-9da1-31791dd25db8",
   "metadata": {},
   "outputs": [],
   "source": [
    "df = px.data.tips()\n",
    "\n",
    "fig = statsplotly.catplot(\n",
    "    data=df,\n",
    "    y=\"total_bill\",\n",
    "    x=\"sex\",\n",
    "    plot_type=\"violinplot\",\n",
    "    size=8,\n",
    "    slicer=\"smoker\",\n",
    "    marker=\"diamond\",\n",
    ")\n",
    "fig.show()"
   ]
  },
  {
   "cell_type": "markdown",
   "id": "31660257-aa65-4bec-a049-bd145ea76b47",
   "metadata": {},
   "source": [
    "## Processing data under the hood\n",
    "\n",
    "Slices can be re-ordered and filtered by providing the `slice_order` argument. \n",
    "\n",
    "One can also normalize the data, e.g., centering (i.e., make data 0 mean) (see {obj}`normalization type <statsplotly.plot_specifiers.data.NormalizationType>`):"
   ]
  },
  {
   "cell_type": "code",
   "execution_count": null,
   "id": "f8956a9f-f05a-4140-aab5-8448c0735650",
   "metadata": {},
   "outputs": [],
   "source": [
    "df = px.data.tips()\n",
    "\n",
    "fig = statsplotly.catplot(\n",
    "    data=df,\n",
    "    y=\"total_bill\",\n",
    "    x=\"sex\",\n",
    "    plot_type=\"boxplot\",\n",
    "    slicer=\"day\",\n",
    "    normalizer=\"center\",\n",
    "    slice_order=[\"Fri\", \"Sat\", \"Sun\"],\n",
    ")\n",
    "fig.show()"
   ]
  },
  {
   "cell_type": "markdown",
   "id": "c857048b-e904-42e5-8214-5eca126dc29e",
   "metadata": {},
   "source": [
    "Full details of the API : {func}`~statsplotly.catplot`."
   ]
  }
 ],
 "metadata": {
  "kernelspec": {
   "display_name": "statsplotly",
   "language": "python",
   "name": "statsplotly"
  },
  "language_info": {
   "codemirror_mode": {
    "name": "ipython",
    "version": 3
   },
   "file_extension": ".py",
   "mimetype": "text/x-python",
   "name": "python",
   "nbconvert_exporter": "python",
   "pygments_lexer": "ipython3",
   "version": "3.11.5"
  },
  "widgets": {
   "application/vnd.jupyter.widget-state+json": {
    "state": {},
    "version_major": 2,
    "version_minor": 0
   }
  }
 },
 "nbformat": 4,
 "nbformat_minor": 5
}
