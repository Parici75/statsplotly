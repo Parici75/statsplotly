{
 "cells": [
  {
   "cell_type": "markdown",
   "id": "deda1678-a674-4082-8cd1-8f7aac38cdb7",
   "metadata": {
    "editable": true,
    "slideshow": {
     "slide_type": ""
    },
    "tags": []
   },
   "source": [
    "# Bar plots\n",
    "A bar plot uses bars of different heights or colors to compare categorical data across different groups or categories.\n",
    "\n",
    "Bar plots are often used to represent a measure of central tendency, with an estimation of the associated error."
   ]
  },
  {
   "cell_type": "code",
   "execution_count": null,
   "id": "55e4fe06-c165-48a5-934c-d6ae8f23aa7f",
   "metadata": {
    "editable": true,
    "slideshow": {
     "slide_type": ""
    },
    "tags": [
     "hide-input"
    ]
   },
   "outputs": [],
   "source": [
    "import plotly.io as pio\n",
    "\n",
    "pio.renderers.default = \"sphinx_gallery\""
   ]
  },
  {
   "cell_type": "code",
   "execution_count": null,
   "id": "f864ef76-5334-4c29-8ae2-f02d9fabdc01",
   "metadata": {
    "editable": true,
    "slideshow": {
     "slide_type": ""
    },
    "tags": []
   },
   "outputs": [],
   "source": [
    "import plotly.express as px\n",
    "import statsplotly"
   ]
  },
  {
   "cell_type": "code",
   "execution_count": null,
   "id": "259fa42c-fa9c-45fc-9f86-b0500c2c42e2",
   "metadata": {},
   "outputs": [],
   "source": [
    "df = px.data.stocks()\n",
    "\n",
    "fig = statsplotly.barplot(\n",
    "    data=df.set_index(\"date\").melt(\n",
    "        ignore_index=False, var_name=\"company\", value_name=\"stock_value\"\n",
    "    ),\n",
    "    y=\"stock_value\",\n",
    "    x=\"date\",\n",
    "    barmode=\"stack\",\n",
    "    slicer=\"company\",\n",
    ")\n",
    "fig.show()"
   ]
  },
  {
   "cell_type": "markdown",
   "id": "e12cd5f5-2901-43bd-b6f3-224813466adf",
   "metadata": {},
   "source": [
    "## Controlling bar colors\n",
    "\n",
    "Color can be specified independently of the slicer by providing the `color` parameter. \n",
    "\n",
    "To keep track of data slices, the `slicer` identifier is indicated on the corresponding bars."
   ]
  },
  {
   "cell_type": "code",
   "execution_count": null,
   "id": "4b30a645-2f30-44b3-a0ba-754962b3c80d",
   "metadata": {},
   "outputs": [],
   "source": [
    "df = px.data.medals_long()\n",
    "\n",
    "fig = statsplotly.barplot(\n",
    "    data=df,\n",
    "    barmode=\"group\",\n",
    "    x=\"nation\",\n",
    "    y=\"count\",\n",
    "    color=\"count\",\n",
    "    slicer=\"medal\",\n",
    ")\n",
    "fig.show()"
   ]
  },
  {
   "cell_type": "markdown",
   "id": "70d01e1f-a37b-4610-823c-7b91d61e7fea",
   "metadata": {},
   "source": [
    "## Aggregating data and displaying error bars\n",
    "\n",
    "Barplot are often used to summarize the central tendency of data. This is accomplished with the `aggregation_func` argument. Error bars can also be specified. \n",
    "\n",
    "Here we aggregate the mean of the data and perform bootstrap resampling to draw a 95% confidence interval error bar :"
   ]
  },
  {
   "cell_type": "code",
   "execution_count": null,
   "id": "5011ad13-4432-4b92-85c5-4e89b4b603f9",
   "metadata": {},
   "outputs": [],
   "source": [
    "df = px.data.tips()\n",
    "\n",
    "fig = statsplotly.barplot(\n",
    "    data=df,\n",
    "    y=\"total_bill\",\n",
    "    x=\"day\",\n",
    "    slicer=\"sex\",\n",
    "    color_palette=\"tab10\",\n",
    "    aggregation_func=\"mean\",\n",
    "    error_bar=\"bootstrap\",\n",
    ")\n",
    "\n",
    "fig.show()"
   ]
  },
  {
   "cell_type": "markdown",
   "id": "5c8d3e97-d612-4bb7-b03d-6ede22843386",
   "metadata": {},
   "source": [
    "The `aggregation_func` and `error_bar` arguments also accepts `Callable` arguments :"
   ]
  },
  {
   "cell_type": "code",
   "execution_count": null,
   "id": "ea58c3ba-693b-4921-98ec-cac862bb377f",
   "metadata": {
    "editable": true,
    "slideshow": {
     "slide_type": ""
    },
    "tags": []
   },
   "outputs": [],
   "source": [
    "import numpy as np\n",
    "\n",
    "df = px.data.tips()\n",
    "fig = statsplotly.barplot(\n",
    "    data=df,\n",
    "    x=\"day\",\n",
    "    y=\"total_bill\",\n",
    "    slicer=\"sex\",\n",
    "    aggregation_func=np.max,\n",
    "    error_bar=lambda x: (x.min(), None),\n",
    ")\n",
    "\n",
    "fig.show()"
   ]
  },
  {
   "cell_type": "markdown",
   "id": "717a49ee-9900-43a1-8bd3-9c5c9530c87f",
   "metadata": {
    "editable": true,
    "slideshow": {
     "slide_type": ""
    },
    "tags": []
   },
   "source": [
    "## Horizontal bar plots\n",
    "\n",
    "The numeric dimension is the default aggregated dimension ; swapping the `x` and `y` dimensions produces an horizontal plot :"
   ]
  },
  {
   "cell_type": "code",
   "execution_count": null,
   "id": "0c3dfbf7-665d-43a6-8386-468666144a7d",
   "metadata": {},
   "outputs": [],
   "source": [
    "df = px.data.tips()\n",
    "fig = statsplotly.barplot(\n",
    "    data=df,\n",
    "    y=\"day\",\n",
    "    x=\"total_bill\",\n",
    "    slicer=\"sex\",\n",
    "    aggregation_func=\"median\",\n",
    "    error_bar=\"iqr\",\n",
    ")\n",
    "\n",
    "fig.show()"
   ]
  },
  {
   "cell_type": "markdown",
   "id": "4673ec5a-bf2b-475d-88d0-a0ad04b9f016",
   "metadata": {},
   "source": [
    "Full details of the API : {func}`~statsplotly.barplot`."
   ]
  }
 ],
 "metadata": {
  "kernelspec": {
   "display_name": "statsplotly",
   "language": "python",
   "name": "statsplotly"
  },
  "language_info": {
   "codemirror_mode": {
    "name": "ipython",
    "version": 3
   },
   "file_extension": ".py",
   "mimetype": "text/x-python",
   "name": "python",
   "nbconvert_exporter": "python",
   "pygments_lexer": "ipython3",
   "version": "3.11.5"
  },
  "widgets": {
   "application/vnd.jupyter.widget-state+json": {
    "state": {},
    "version_major": 2,
    "version_minor": 0
   }
  }
 },
 "nbformat": 4,
 "nbformat_minor": 5
}
